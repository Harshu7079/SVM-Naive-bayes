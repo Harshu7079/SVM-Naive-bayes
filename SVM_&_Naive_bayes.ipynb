{
  "nbformat": 4,
  "nbformat_minor": 0,
  "metadata": {
    "colab": {
      "provenance": []
    },
    "kernelspec": {
      "name": "python3",
      "display_name": "Python 3"
    },
    "language_info": {
      "name": "python"
    }
  },
  "cells": [
    {
      "cell_type": "markdown",
      "source": [
        "**Theoretical**"
      ],
      "metadata": {
        "id": "tuujAPk06M7C"
      }
    },
    {
      "cell_type": "markdown",
      "source": [
        "Q1*.*? **What is a Support Vector Machine (SVM)?**\n",
        "\n",
        "A Support Vector Machine (SVM) is a supervised machine learning algorithm primarily used for classification and regression tasks. It is particularly effective for high-dimensional spaces and cases where the number of dimensions exceeds the number of samples.\n",
        "\n",
        "Core Concept:\n",
        "\n",
        "At its core, an SVM aims to find the optimal hyperplane that best separates data points of different classes.\n",
        "\n",
        "Key Elements:\n",
        "\n",
        "Hyperplane:\n",
        "\n",
        "In two dimensions, it's simply a line.\n",
        "\n",
        "In higher dimensions, it's a flat affine subspace that separates data points.\n",
        "\n",
        "Support Vectors:\n",
        "\n",
        "These are the critical data points closest to the hyperplane.\n",
        "\n",
        "They \"support\" or define the hyperplane.\n",
        "\n",
        "The SVM algorithm tries to maximize the margin (distance) between these vectors and the hyperplane.\n",
        "\n",
        "Margin:\n",
        "\n",
        "The margin is the distance between the hyperplane and the nearest support vectors of any class.\n",
        "\n",
        "A larger margin implies better generalization on unseen data.\n",
        "\n",
        "\n",
        "**Q2. What is the difference between Hard Margin and Soft Margin SVM?**\n",
        "\n",
        "The difference between Hard Margin and Soft Margin SVM lies in how strictly the algorithm enforces the separation of data points when creating the decision boundary (hyperplane).\n",
        "\n",
        "🔵 Hard Margin SVM\n",
        "\n",
        "Definition:\n",
        "\n",
        "Hard Margin SVM attempts to perfectly separate the data into classes without any misclassification.\n",
        "\n",
        "Key Characteristics:\n",
        "\n",
        "Assumes data is linearly separable.\n",
        "\n",
        "Finds the maximum-margin hyperplane that strictly separates the classes.\n",
        "\n",
        "No tolerance for errors — all data points must be correctly classified and lie outside the margin.\n",
        "\n",
        "\n"
      ],
      "metadata": {
        "id": "ubxlTM8dp5ON"
      }
    },
    {
      "cell_type": "markdown",
      "source": [
        "**Q4.What is the cost function of Logistic Regression?**\n",
        "\n",
        "The cost function (also called the loss function) in logistic regression is designed to measure how well the predicted probabilities match the actual class labels. Unlike linear regression, which typically uses Mean Squared Error, logistic regression uses the log loss (also called cross-entropy loss).\n",
        "\n",
        "Cost function for Logistic Regression\n",
        "Given:\n",
        "\n",
        "𝑦\n",
        "𝑖\n",
        "​\n",
        "  = actual label for the\n",
        "𝑖\n",
        "𝑡\n",
        "ℎ\n",
        "i\n",
        "th\n",
        "  training example (0 or 1)\n",
        "\n",
        "𝑝\n",
        "𝑖\n",
        "=\n",
        "𝑦\n",
        "𝑖\n",
        "^\n",
        "=\n",
        "𝜎\n",
        "(\n",
        "𝑧\n",
        "𝑖\n",
        ")\n",
        "=\n",
        "predicted probability that\n",
        "𝑦\n",
        "𝑖\n",
        "=\n",
        "1\n",
        "p\n",
        "i\n",
        "​\n",
        " =\n",
        "y\n",
        "i\n",
        "​\n",
        "\n",
        "^\n",
        "​\n",
        " =σ(z\n",
        "i\n",
        "​\n",
        " )=predicted probability that y\n",
        "i\n",
        "​\n",
        " =1\n",
        "\n",
        "𝑧\n",
        "𝑖\n",
        "=\n",
        "𝛽\n",
        "0\n",
        "+\n",
        "𝛽\n",
        "1\n",
        "𝑥\n",
        "𝑖\n",
        "1\n",
        "+\n",
        "𝛽\n",
        "2\n",
        "𝑥\n",
        "𝑖\n",
        "2\n",
        "+\n",
        "⋯\n",
        "+\n",
        "𝛽\n",
        "𝑛\n",
        "𝑥\n",
        "𝑖\n",
        "𝑛\n",
        "z\n",
        "i\n",
        "​\n",
        " =β\n",
        "0\n",
        "​\n",
        " +β\n",
        "1\n",
        "​\n",
        " x\n",
        "i1\n",
        "​\n",
        " +β\n",
        "2\n",
        "​\n",
        " x\n",
        "i2\n",
        "​\n",
        " +⋯+β\n",
        "n\n",
        "​\n",
        " x\n",
        "in\n",
        "​\n",
        "\n",
        "\n",
        "The cost for a single training example is:\n",
        "\n",
        "Cost\n",
        "(\n",
        "𝑝\n",
        "𝑖\n",
        ",\n",
        "𝑦\n",
        "𝑖\n",
        ")\n",
        "=\n",
        "{\n",
        "−\n",
        "log\n",
        "⁡\n",
        "(\n",
        "𝑝\n",
        "𝑖\n",
        ")\n",
        "if\n",
        "𝑦\n",
        "𝑖\n",
        "=\n",
        "1\n",
        "−\n",
        "log\n",
        "⁡\n",
        "(\n",
        "1\n",
        "−\n",
        "𝑝\n",
        "𝑖\n",
        ")\n",
        "if\n",
        "𝑦\n",
        "𝑖\n",
        "=\n",
        "0\n",
        "Cost(p\n",
        "i\n",
        "​\n",
        " ,y\n",
        "i\n",
        "​\n",
        " )={\n",
        "−log(p\n",
        "i\n",
        "​\n",
        " )\n",
        "−log(1−p\n",
        "i\n",
        "​\n",
        " )\n",
        "​\n",
        "  \n",
        "if y\n",
        "i\n",
        "​\n",
        " =1\n",
        "if y\n",
        "i\n",
        "​\n",
        " =0\n",
        "​\n"
      ],
      "metadata": {
        "id": "jyLQDXFy7Jt4"
      }
    },
    {
      "cell_type": "markdown",
      "source": [
        "**Q5.What is Regularization in Logistic Regression? Why is it needed?**\n",
        "\n",
        "Regularization is a technique used to prevent overfitting by adding a penalty term to the loss (cost) function during training. It discourages the model from fitting the training data too perfectly, which can harm its ability to generalize to new, unseen data.\n",
        "\n",
        "Why do we need Regularization in Logistic Regression?\n",
        "\n",
        "Logistic regression finds the best coefficients β that minimize the loss function.\n",
        "\n",
        "Without regularization, the model might:\n",
        "\n",
        "Assign very large weights to some features to perfectly classify training points.\n",
        "\n",
        "Become overly complex and sensitive to noise.\n",
        "\n",
        "Perform poorly on new data (overfitting).\n",
        "\n",
        "Regularization helps by shrinking these coefficients towards zero, encouraging simpler, more generalizable models."
      ],
      "metadata": {
        "id": "CxM5JWK17RXQ"
      }
    },
    {
      "cell_type": "markdown",
      "source": [
        "**Q6.Explain the difference between Lasso, Ridge, and Elastic Net regression?**\n",
        "\n",
        "1. Ridge Regression (L2 Regularization)\n",
        "\n",
        "Penalty: Adds the sum of squared coefficients to the loss function:\n",
        "\n",
        "𝜆\n",
        "∑\n",
        "𝑗\n",
        "=\n",
        "1\n",
        "𝑛\n",
        "𝛽\n",
        "𝑗\n",
        "2\n",
        "λ\n",
        "j=1\n",
        "∑\n",
        "n\n",
        "​\n",
        " β\n",
        "j\n",
        "2\n",
        "​\n",
        "\n",
        "Effect:\n",
        "\n",
        "Shrinks coefficients towards zero but never exactly zero.\n",
        "\n",
        "Helps reduce model complexity and multicollinearity.\n",
        "\n",
        "Keeps all features but with smaller weights.\n",
        "\n",
        "When to use:\n",
        "\n",
        "When you want to keep all features but control their influence and reduce overfitting.\n",
        "\n",
        "2. Lasso Regression (L1 Regularization)\n",
        "\n",
        "Penalty: Adds the sum of the absolute values of coefficients:\n",
        "\n",
        "𝜆\n",
        "∑\n",
        "𝑗\n",
        "=\n",
        "1\n",
        "𝑛\n",
        "∣\n",
        "𝛽\n",
        "𝑗\n",
        "∣\n",
        "λ\n",
        "j=1\n",
        "∑\n",
        "n\n",
        "​\n",
        " ∣β\n",
        "j\n",
        "​\n",
        " ∣\n",
        "Effect:\n",
        "\n",
        "Can shrink some coefficients exactly to zero.\n",
        "\n",
        "Performs feature selection by effectively removing less important features.\n",
        "\n",
        "When to use:\n",
        "\n",
        "When you want a sparse model (few features) and automatic feature selection.\n",
        "\n",
        "3. Elastic Net Regression\n",
        "\n",
        "Penalty: Combines both L1 and L2 penalties:\n",
        "\n",
        "𝜆\n",
        "(\n",
        "𝛼\n",
        "∑\n",
        "𝑗\n",
        "=\n",
        "1\n",
        "𝑛\n",
        "∣\n",
        "𝛽\n",
        "𝑗\n",
        "∣\n",
        "+\n",
        "(\n",
        "1\n",
        "−\n",
        "𝛼\n",
        ")\n",
        "∑\n",
        "𝑗\n",
        "=\n",
        "1\n",
        "𝑛\n",
        "𝛽\n",
        "𝑗\n",
        "2\n",
        ")\n",
        "λ(α\n",
        "j=1\n",
        "∑\n",
        "n\n",
        "​\n",
        " ∣β\n",
        "j\n",
        "​\n",
        " ∣+(1−α)\n",
        "j=1\n",
        "∑\n",
        "n\n",
        "​\n",
        " β\n",
        "j\n",
        "2\n",
        "​\n",
        " )\n",
        "𝛼\n",
        "∈\n",
        "[\n",
        "0\n",
        ",\n",
        "1\n",
        "]\n",
        "α∈[0,1] controls the balance between Lasso (L1) and Ridge (L2).\n",
        "\n",
        "\n",
        "Effect:\n",
        "\n",
        "Encourages sparsity like Lasso, but also keeps groupings of correlated features like Ridge.\n",
        "\n",
        "Useful when features are highly correlated.\n",
        "\n",
        "When to use:\n",
        "When you want the benefits of both Ridge and Lasso — feature selection and handling correlated features well."
      ],
      "metadata": {
        "id": "kXiAjRbC7D3c"
      }
    },
    {
      "cell_type": "markdown",
      "source": [
        "**Q7.When should we use Elastic Net instead of Lasso or Ridge?**\n",
        "\n",
        "When to use Elastic Net over Lasso or Ridge:\n",
        "\n",
        "**When you have many correlated features:**\n",
        "\n",
        "Lasso tends to pick only one feature from a group of correlated features and ignore the others, which can be unstable or arbitrary.\n",
        "\n",
        "Ridge shrinks coefficients of correlated features together but does not perform feature selection.\n",
        "\n",
        "Elastic Net combines both: it can select groups of correlated features together while still performing some feature selection by zeroing out irrelevant features.\n",
        "\n",
        "**When you want a balance between feature selection and coefficient shrinkage:**\n",
        "\n",
        "If you want some sparsity (like Lasso) but also want to keep correlated predictors grouped (like Ridge), Elastic Net offers a compromise by tuning the\n",
        "𝛼\n",
        "α parameter.\n",
        "\n",
        "**When neither Lasso nor Ridge alone perform well:**\n",
        "\n",
        "In practice, Elastic Net often outperforms either method alone, especially on complex datasets with many features and multicollinearity.\n",
        "\n"
      ],
      "metadata": {
        "id": "l-Dhk3uD8prG"
      }
    },
    {
      "cell_type": "markdown",
      "source": [
        "**Q8.What is the impact of the regularization parameter (λ) in Logistic Regression?**\n",
        "\n",
        "Impact of\n",
        "𝜆\n",
        "λ in Logistic Regression:\n",
        "\n",
        "**Controls the strength of regularization**\n",
        "\n",
        "𝜆\n",
        "=\n",
        "0\n",
        "λ=0: No regularization. The model tries to fit the training data as closely as possible, which might lead to overfitting.\n",
        "\n",
        "𝜆\n",
        "→\n",
        "∞\n",
        "λ→∞: Very strong regularization. Coefficients are heavily shrunk towards zero, leading to a simpler model that may underfit the data.\n",
        "\n",
        "**Balances bias and variance**\n",
        "\n",
        "Small\n",
        "𝜆\n",
        "λ → low bias, high variance (model may overfit).\n",
        "\n",
        "Large\n",
        "𝜆\n",
        "λ → high bias, low variance (model may underfit).\n",
        "The goal is to find a\n",
        "𝜆\n",
        "λ that minimizes generalization error.\n",
        "\n",
        "**Affects coefficients magnitude**\n",
        "\n",
        "Increasing\n",
        "𝜆\n",
        "λ pushes coefficients\n",
        "𝛽\n",
        "𝑗\n",
        "β\n",
        "j\n",
        "​\n",
        "  closer to zero.\n",
        "\n",
        "This can reduce the influence of less important features, improve generalization, and sometimes perform feature selection (especially with L1 regularization).\n",
        "\n"
      ],
      "metadata": {
        "id": "z5yiW6nh87Xm"
      }
    },
    {
      "cell_type": "markdown",
      "source": [
        "**Q9. What are the key assumptions of Logistic Regression?**\n",
        "\n",
        "Key Assumptions of Logistic Regression\n",
        "\n",
        "**Binary (or categorical) dependent variable**\n",
        "\n",
        "The outcome should be binary (0/1) or can be extended to multinomial classes in multiclass logistic regression.\n",
        "\n",
        "**Independence of observations**\n",
        "\n",
        "Each observation should be independent of the others (no repeated measures or related samples).\n",
        "\n",
        "**Linearity of the log-odds with predictors**\n",
        "\n",
        "Logistic regression assumes a linear relationship between the predictors and the log-odds (logit) of the outcome.\n",
        "\n",
        "\n",
        "Note: It does not assume linearity between predictors and the outcome probability itself.\n",
        "\n",
        "**No (or little) multicollinearity among predictors**\n",
        "\n",
        "Predictors should not be highly correlated with each other. High multicollinearity can destabilize coefficient estimates.\n",
        "\n",
        "**Large sample size**\n",
        "\n",
        "Logistic regression requires a sufficiently large sample size to produce reliable and stable estimates.\n",
        "\n"
      ],
      "metadata": {
        "id": "YtLycEaJ9N-P"
      }
    },
    {
      "cell_type": "markdown",
      "source": [
        "**Q10.What are some alternatives to Logistic Regression for classification tasks?**\n",
        "\n",
        "1. Decision Trees\n",
        " Split data based on feature values to create a tree of decisions.\n",
        "\n",
        " Easy to interpret and visualize.\n",
        "\n",
        " Can handle nonlinear relationships and feature interactions.\n",
        "\n",
        " Prone to overfitting but can be improved with pruning.\n",
        "\n",
        "2. Random Forests\n",
        " Ensemble of many decision trees trained on bootstrapped samples.\n",
        "\n",
        " Reduces overfitting compared to a single tree.\n",
        "\n",
        " Often achieves high accuracy on many tasks.\n",
        "\n",
        " Less interpretable than a single decision tree.\n",
        "\n",
        "3. Support Vector Machines (SVM)\n",
        "\n",
        " Finds the hyperplane that maximizes the margin between classes.\n",
        "\n",
        " Can use kernel functions to handle nonlinear boundaries.\n",
        "\n",
        " Effective in high-dimensional spaces.\n",
        "\n",
        " Requires careful tuning of parameters (kernel type, regularization).\n",
        "\n",
        "4.K-Nearest Neighbors (KNN)\n",
        "\n",
        "  Classifies based on the majority class among the k closest points.\n",
        "\n",
        "  Simple and intuitive.\n",
        "\n",
        "  Can capture complex decision boundaries.\n",
        "\n",
        "  Computationally expensive with large datasets and sensitive to irrelevant features.\n",
        "\n",
        "5. Naive Bayes\n",
        "\n",
        " Probabilistic classifier based on Bayes’ theorem assuming feature independence.\n",
        "\n",
        " Fast and efficient.\n",
        "\n",
        " Performs well on text classification and problems with strong independence assumptions.\n",
        "\n",
        "6. Neural Networks\n",
        "\n",
        " Models complex, nonlinear relationships with layers of interconnected neurons.\n",
        "\n",
        " Flexible and powerful, especially for large datasets.\n",
        "\n",
        " Requires more data and computation; less interpretable.\n",
        "\n",
        "7. Gradient Boosting Machines (e.g., XGBoost, LightGBM)\n",
        "\n",
        " Ensemble of weak learners (usually decision trees) trained sequentially.\n",
        "\n",
        " Often yields state-of-the-art performance.\n",
        "\n",
        " Can handle different data types and missing values.\n",
        "\n",
        " Needs careful tuning to avoid overfitting.\n"
      ],
      "metadata": {
        "id": "Jr_yQQ729lqa"
      }
    },
    {
      "cell_type": "markdown",
      "source": [
        "**Q11. What are Classification Evaluation Metrics?**\n",
        "\n",
        "Common Classification Evaluation Metrics:\n",
        "1. Accuracy\n",
        "Definition: Percentage of correctly classified samples.\n",
        "\n",
        " \\text{Accuracy} = \\frac{TP + TN}{TP + TN + FP + FN}\n",
        " ]\n",
        "\n",
        " When to use: When classes are balanced.\n",
        "\n",
        "  Limitation: Can be misleading if classes are imbalanced.\n",
        "\n",
        "2. Precision\n",
        "\n",
        " Definition: Of all predicted positives, how many are actually positive?\n",
        "\n",
        " \\text{Precision} = \\frac{TP}{TP + FP}\n",
        "]\n",
        "\n",
        " When to use: When false positives are costly (e.g., spam detection).\n",
        "\n",
        "3. Recall (Sensitivity or True Positive Rate)\n",
        "\n",
        " Definition: Of all actual positives, how many did the model identify correctly?\n",
        "\n",
        " \\text{Recall} = \\frac{TP}{TP + FN}\n",
        "]\n",
        "\n",
        "When to use: When false negatives are costly (e.g., disease diagnosis).\n",
        "\n",
        "4. F1 Score\n",
        "\n",
        " Definition: Harmonic mean of Precision and Recall, balances both.\n",
        "\n",
        " \\text{F1} = 2 \\times \\frac{\\text{Precision} \\times \\text{Recall}}{\\text{Precision} + \\text{Recall}}\n",
        "]\n",
        "\n",
        " When to use: When you want a balance between precision and recall.\n",
        "\n",
        "5. Specificity (True Negative Rate)\n",
        "\n",
        " Definition: Of all actual negatives, how many did the model identify correctly?\n",
        "\n",
        " \\text{Specificity} = \\frac{TN}{TN + FP}\n",
        "]\n",
        "\n",
        "6. ROC Curve and AUC (Area Under the Curve)\n",
        "\n",
        " ROC Curve: Plots True Positive Rate (Recall) vs. False Positive Rate at various threshold settings.\n",
        "\n",
        " AUC: Measures overall ability to discriminate between classes (0.5 = random, 1 = perfect).\n",
        "\n",
        " When to use: Good for evaluating models at different thresholds, especially with imbalanced data.\n",
        "\n",
        "7. Log Loss (Cross-Entropy Loss)\n",
        "\n",
        " Measures how close the predicted probabilities are to the actual labels.\n",
        "\n",
        " Lower is better.\n",
        "\n",
        " Useful when your model outputs probabilities, not just classes."
      ],
      "metadata": {
        "id": "-7qr8_8L-UMp"
      }
    },
    {
      "cell_type": "markdown",
      "source": [
        "**Q12. How does class imbalance affect Logistic Regression?**\n",
        "\n",
        "🔄 What Is Class Imbalance?\n",
        "Class imbalance occurs when one class (e.g., \"Negative\") greatly outnumbers the other class (e.g., \"Positive\").\n",
        "For example:\n",
        "\n",
        "95% class 0 (non-spam), 5% class 1 (spam)\n",
        "\n",
        "❗ Impact on Logistic Regression:\n",
        "1. Biased Predictions Toward the Majority Class\n",
        "Logistic regression aims to maximize overall accuracy, which can lead it to predict the majority class most of the time.\n",
        "\n",
        "It may predict \"not spam\" for every email and still achieve 95% accuracy — but completely fail to identify actual spam.\n",
        "\n",
        "2. Misleading Accuracy\n",
        "High accuracy can be deceptive because the model may ignore the minority class completely.\n",
        "\n",
        "Example: In a 95:5 ratio, predicting all zeros gives 95% accuracy but 0% recall for the minority class.\n",
        "\n",
        "3. Poor Recall and F1 Score for Minority Class\n",
        "The model may have:\n",
        "\n",
        "Low recall: It misses many actual positives.\n",
        "\n",
        "Low F1-score: It fails to balance precision and recall.\n",
        "\n",
        "4. Uncalibrated Probabilities\n",
        "Logistic regression outputs probability scores.\n",
        "\n",
        "With imbalance, it can skew those scores toward the majority class, making thresholds (like 0.5) unreliable for rare class detection.\n",
        "\n"
      ],
      "metadata": {
        "id": "5KWb8Fpl_Eq5"
      }
    },
    {
      "cell_type": "markdown",
      "source": [
        "**Q14.What are different solvers in Logistic Regression? Which one should be used?**\n",
        "\n",
        "![Screenshot 2025-05-28 183420.png](data:image/png;base64,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)\n",
        "\n",
        "✅ Which Solver Should You Use?\n",
        "Here’s how to decide:\n",
        "\n",
        "For small datasets (few thousand samples):\n",
        "\n",
        "Use liblinear. It’s stable and supports L1 and L2 regularization.\n",
        "\n",
        "For large datasets:\n",
        "\n",
        "Use sag or saga — especially if your data is sparse (e.g., text data).\n",
        "\n",
        "saga supports both L1 and L2, and is a good all-around choice for large datasets.\n",
        "\n",
        "For multinomial (multiclass) classification:\n",
        "\n",
        "Use lbfgs, newton-cg, or saga — these solvers support the \"multinomial\" option.\n",
        "\n",
        "For L1 regularization (sparse models):\n",
        "\n",
        "Use liblinear (small data) or saga (large data)."
      ],
      "metadata": {
        "id": "vGWndYSa_Sd8"
      }
    },
    {
      "cell_type": "markdown",
      "source": [
        "**Q15. How is Logistic Regression extended for multiclass classification?**\n",
        "\n",
        "Logistic Regression is inherently a binary classifier, but it can be extended to handle multiclass classification using the following strategies:\n",
        "\n",
        "✅ 1. One-vs-Rest (OvR) / One-vs-All (OvA)\n",
        "How it works:\n",
        "\n",
        "For a problem with\n",
        "𝐾\n",
        "K classes, the model trains K binary classifiers.\n",
        "\n",
        "Each classifier learns to distinguish one class vs. all others.\n",
        "\n",
        "At prediction time, the class with the highest predicted probability is chosen.\n",
        "\n",
        "Pros: Simple and works well for many problems.\n",
        "\n",
        "✅ 2. Multinomial Logistic Regression (Softmax Regression)\n",
        "How it works:\n",
        "\n",
        "Directly generalizes logistic regression to multiclass problems.\n",
        "\n",
        "\n",
        "\n",
        "Learns all\n",
        "𝐾\n",
        "K classes together, optimizing a single cost function.\n",
        "\n",
        "Pros:\n",
        "More accurate when classes are mutually exclusive and the dataset is not highly imbalanced.\n",
        "\n",
        "Requires:\n",
        "Solvers that support multi_class='multinomial' (e.g., lbfgs, newton-cg, or saga).\n",
        "\n",
        "\n",
        "\n"
      ],
      "metadata": {
        "id": "81qo4ZOLAAW9"
      }
    },
    {
      "cell_type": "markdown",
      "source": [
        "**Q16. What are the advantages and disadvantages of Logistic Regression?**\n",
        "\n",
        "| Advantage                                   | Description                                                                   |\n",
        "| ------------------------------------------- | ----------------------------------------------------------------------------- |\n",
        "| **Simple and Interpretable**                | Coefficients have clear meaning (log-odds); easy to explain to stakeholders.  |\n",
        "| **Efficient to Train**                      | Fast to compute even on large datasets.                                       |\n",
        "| **Works Well with Linearly Separable Data** | Performs well when classes are linearly separable.                            |\n",
        "| **Probabilistic Output**                    | Outputs class probabilities (not just hard labels), useful for risk analysis. |\n",
        "| **Feature Importance**                      | You can understand the effect of each feature via the coefficients.           |\n",
        "| **Regularization Support**                  | Supports L1/L2 regularization to prevent overfitting.                         |\n",
        "| **Baseline Benchmark**                      | Serves as a solid baseline before trying more complex models.                 |\n",
        "\n",
        "\n",
        "| Disadvantage                             | Description                                                                       |\n",
        "| ---------------------------------------- | --------------------------------------------------------------------------------- |\n",
        "| **Assumes Linear Decision Boundary**     | Performs poorly when data is not linearly separable.                              |\n",
        "| **Not Great with Complex Relationships** | Can’t model interactions or non-linearities unless features are engineered.       |\n",
        "| **Sensitive to Outliers**                | Outliers can distort results unless handled carefully.                            |\n",
        "| **Can Struggle with Multicollinearity**  | Highly correlated features can destabilize coefficient estimates.                 |\n",
        "| **Not Ideal for Imbalanced Data**        | Tends to be biased toward the majority class unless addressed.                    |\n",
        "| **Less Accurate on Complex Problems**    | Usually outperformed by tree-based models or neural networks on complex datasets. |\n"
      ],
      "metadata": {
        "id": "MJbljJDUANSt"
      }
    },
    {
      "cell_type": "markdown",
      "source": [
        "**Q17. What are some use cases of Logistic Regression?**\n",
        "\n",
        "Here are some common and practical use cases:\n",
        "\n",
        "🏥 1. Healthcare\n",
        "Disease Prediction: Predict whether a patient has a disease (e.g., diabetes, cancer).\n",
        "\n",
        "Readmission Risk: Estimate the likelihood of a patient being readmitted to the hospital.\n",
        "\n",
        "Medical Diagnosis: Classify test results as positive/negative.\n",
        "\n",
        "💳 2. Finance\n",
        "Credit Scoring: Predict whether a borrower will default on a loan.\n",
        "\n",
        "Fraud Detection: Classify transactions as fraudulent or legitimate.\n",
        "\n",
        "Customer Churn: Predict if a customer is likely to stop using a service.\n",
        "\n",
        "📧 3. Marketing & Customer Analytics\n",
        "Email Spam Detection: Classify emails as spam or not spam.\n",
        "\n",
        "Lead Conversion Prediction: Estimate whether a lead will become a customer.\n",
        "\n",
        "Targeted Marketing: Predict customer response to a campaign (yes/no).\n",
        "\n",
        "🛒 4. E-Commerce & Retail\n",
        "Purchase Prediction: Will a user buy a product or not?\n",
        "\n",
        "Return Likelihood: Predict whether a purchased item will be returned.\n",
        "\n",
        "Recommendation Systems: Use logistic regression as part of hybrid models.\n",
        "\n",
        "🌐 5. Web & App Analytics\n",
        "Click-Through Rate Prediction: Will a user click on an ad or link?\n",
        "\n",
        "User Retention Analysis: Predict if a user will return to an app/website.\n",
        "\n",
        "🔍 6. Text Classification\n",
        "Sentiment Analysis: Classify reviews as positive or negative.\n",
        "\n",
        "Topic Categorization: Label articles or documents into categories.\n",
        "\n",
        "🚔 7. Public Sector & Law Enforcement\n",
        "Recidivism Prediction: Estimate the likelihood of reoffending.\n",
        "\n",
        "Social Program Eligibility: Predict who qualifies or benefits from interventions.\n",
        "\n",
        "🎓 8. Education\n",
        "Student Dropout Prediction: Identify students at risk of leaving school.\n",
        "\n",
        "Exam Pass Prediction: Will a student pass/fail a course?"
      ],
      "metadata": {
        "id": "OtuTqsOiAsL3"
      }
    },
    {
      "cell_type": "markdown",
      "source": [
        "**Q19.What is the difference between Softmax Regression and Logistic Regression?**\n",
        "\n",
        "The difference between Logistic Regression and Softmax Regression lies in the number of classes they are designed to handle:\n",
        "\n",
        "🔹 Logistic Regression\n",
        "Type: Binary classifier\n",
        "\n",
        "Target Variable: Two classes (e.g., 0 or 1)\n",
        "\n",
        "Activation Function: Sigmoid\n",
        "\n",
        "𝑃\n",
        "(\n",
        "𝑦\n",
        "=\n",
        "1\n",
        "∣\n",
        "𝑥\n",
        ")\n",
        "=\n",
        "1/\n",
        "1\n",
        "+\n",
        "𝑒\n",
        "−\n",
        "𝜃\n",
        "𝑇\n",
        "𝑥\n",
        "P(y=1∣x)=\n",
        "1+e\n",
        "−θ\n",
        "T\n",
        " x\n",
        "\n",
        "1\n",
        "​\n",
        "\n",
        "Output: A single probability value between 0 and 1\n",
        "\n",
        "Classification Rule: Predict class 1 if probability ≥ 0.5; else class 0\n",
        "\n",
        "| Feature                  | Logistic Regression                 | Softmax Regression                      |\n",
        "| ------------------------ | ----------------------------------- | --------------------------------------- |\n",
        "| Use Case                 | Binary classification               | Multiclass classification (K > 2)       |\n",
        "| Activation Function      | Sigmoid                             | Softmax                                 |\n",
        "| Output                   | One probability (for class 1)       | Probabilities for all classes           |\n",
        "| Predicted Class          | 0 or 1                              | 0, 1, ..., K-1                          |\n",
        "| Cost Function            | Binary cross-entropy                | Multiclass cross-entropy (softmax loss) |\n",
        "| Common Framework Support | `multi_class='ovr'` (binary or OvR) | `multi_class='multinomial'` (Softmax)   |\n"
      ],
      "metadata": {
        "id": "BVMCLEBfBBip"
      }
    },
    {
      "cell_type": "markdown",
      "source": [
        "**Q19. How do we choose between One-vs-Rest (OvR) and Softmax for multiclass classification?**\n",
        "\n",
        "Choosing between One-vs-Rest (OvR) and Softmax (Multinomial Logistic Regression) depends on your data characteristics, model complexity needs, and interpretability goals. Here's a detailed comparison to help you decide:\n",
        "\n",
        "\n",
        "🔁 One-vs-Rest (OvR)\n",
        "\n",
        "✅ How it Works:\n",
        "Trains K binary classifiers, one for each class vs. the rest.\n",
        "\n",
        "\n",
        "Predicts the class with the highest confidence score from the binary classifiers.\n",
        "\n",
        "| Situation                      | Why OvR is a Good Fit                                       |\n",
        "| ------------------------------ | ----------------------------------------------------------- |\n",
        "| ✅ Small datasets               | Simple, less prone to overfitting                           |\n",
        "| ✅ Imbalanced classes           | Each binary classifier focuses on one class vs all others   |\n",
        "| ✅ High interpretability needed | Each classifier is easy to interpret independently          |\n",
        "| ✅ Limited solver support       | Works with all solvers (e.g., `liblinear`)                  |\n",
        "| ✅ Multilabel classification    | Can be extended to multilabel (multiple classes per sample) |\n",
        "\n",
        "\n",
        "🔢 Softmax (Multinomial Logistic Regression)\n",
        "\n",
        "✅ How it Works:\n",
        "Trains a single model with a softmax layer that outputs probabilities across all classes.\n",
        "\n",
        "Optimizes a single cost function that models mutual exclusivity among classes.\n",
        "\n",
        "✅ When to Use Softmax:\n",
        "\n",
        "| Situation                        | Why Softmax is a Good Fit                                      |\n",
        "| -------------------------------- | -------------------------------------------------------------- |\n",
        "| ✅ Classes are mutually exclusive | Softmax models class competition directly                      |\n",
        "| ✅ Need calibrated probabilities  | Output probabilities are normalized and sum to 1               |\n",
        "| ✅ Large or balanced datasets     | Handles these scenarios well                                   |\n",
        "| ✅ Want global optimization       | Single model captures all class relationships together         |\n",
        "| ✅ Solver supports multinomial    | Use `solver='lbfgs'`, `saga`, or `newton-cg` in `scikit-learn` |\n",
        "\n",
        "🔍 Side-by-Side Summary\n",
        "\n",
        "\n",
        "| Feature              | OvR                         | Softmax                             |\n",
        "| -------------------- | --------------------------- | ----------------------------------- |\n",
        "| Model count          | K binary models             | 1 model with K output probabilities |\n",
        "| Class competition    | Not modeled directly        | Modeled via softmax normalization   |\n",
        "| Probability outputs  | Independent, not normalized | Normalized, sum to 1                |\n",
        "| Imbalanced data      | Performs better             | May struggle without weighting      |\n",
        "| Solver compatibility | All solvers                 | Only some solvers (e.g., `lbfgs`)   |\n",
        "| Interpretation       | Simpler per class           | More complex due to interactions    |\n",
        "\n"
      ],
      "metadata": {
        "id": "P2i3eHC__xQ2"
      }
    },
    {
      "cell_type": "markdown",
      "source": [
        "**Q20. How do we interpret coefficients in Logistic Regression?**\n",
        "\n",
        "Interpreting the coefficients in Logistic Regression is crucial for understanding how each feature influences the predicted probability of the outcome. Here's how to do it step by step:\n",
        "\n",
        "🔢 Logistic Regression Coefficients\n",
        "The logistic regression model is:\n",
        "\n",
        "𝑃\n",
        "(\n",
        "𝑦\n",
        "=\n",
        "1\n",
        "∣\n",
        "𝑥\n",
        ")\n",
        "=\n",
        "1\n",
        "1\n",
        "+\n",
        "𝑒\n",
        "−\n",
        "(\n",
        "𝛽\n",
        "0\n",
        "+\n",
        "𝛽\n",
        "1\n",
        "𝑥\n",
        "1\n",
        "+\n",
        "𝛽\n",
        "2\n",
        "𝑥\n",
        "2\n",
        "+\n",
        "…\n",
        "+\n",
        "𝛽\n",
        "𝑛\n",
        "𝑥\n",
        "𝑛\n",
        ")\n",
        "P(y=1∣x)=\n",
        "1+e\n",
        "−(β\n",
        "0\n",
        "​\n",
        " +β\n",
        "1\n",
        "​\n",
        " x\n",
        "1\n",
        "​\n",
        " +β\n",
        "2\n",
        "​\n",
        " x\n",
        "2\n",
        "​\n",
        " +…+β\n",
        "n\n",
        "​\n",
        " x\n",
        "n\n",
        "​\n",
        " )\n",
        "\n",
        "1\n",
        "​\n",
        "\n",
        "Where:\n",
        "\n",
        "𝛽\n",
        "0\n",
        "β\n",
        "0\n",
        "​\n",
        "  = intercept\n",
        "\n",
        "𝛽\n",
        "𝑖\n",
        "β\n",
        "i\n",
        "​\n",
        "  = coefficient for feature\n",
        "𝑥\n",
        "𝑖\n",
        "x\n",
        "i\n",
        "​\n",
        "\n",
        "\n",
        "✅ 1. Basic Interpretation\n",
        "**bold text**\n",
        "ach coefficient\n",
        "𝛽\n",
        "𝑖\n",
        "β\n",
        "i\n",
        "​\n",
        "  represents the log-odds change in the outcome for a one-unit increase in\n",
        "𝑥\n",
        "𝑖\n",
        "x\n",
        "i\n",
        "​\n",
        " , holding all other variables constant.\n",
        "\n",
        "Log-odds increase:\n",
        "𝛽\n",
        "𝑖\n",
        "Log-odds increase: β\n",
        "i\n",
        "​\n",
        "\n",
        "If\n",
        "𝛽\n",
        "𝑖\n",
        ">\n",
        "0\n",
        "β\n",
        "i\n",
        "​\n",
        " >0: the odds of the event increase as\n",
        "𝑥\n",
        "𝑖\n",
        "x\n",
        "i\n",
        "​\n",
        "  increases.\n",
        "\n",
        "If\n",
        "𝛽\n",
        "𝑖\n",
        "<\n",
        "0\n",
        "β\n",
        "i\n",
        "​\n",
        " <0: the odds of the event decrease as\n",
        "𝑥\n",
        "𝑖\n",
        "x\n",
        "i\n",
        "​\n",
        "  increases.\n",
        "\n",
        "If\n",
        "𝛽\n",
        "𝑖\n",
        "=\n",
        "0\n",
        "β\n",
        "i\n",
        "​\n",
        " =0: no effect.\n",
        "\n",
        "\n",
        "**🔁 2. From Log-Odds to Odds Ratio**\n",
        "\n",
        "To make interpretation easier, exponentiate the coefficient:\n",
        "\n",
        "Odds Ratio\n",
        "=\n",
        "𝑒\n",
        "𝛽\n",
        "𝑖\n",
        "Odds Ratio=e\n",
        "β\n",
        "i\n",
        "​\n",
        "\n",
        "\n",
        "If\n",
        "𝑒\n",
        "𝛽\n",
        "𝑖\n",
        "=\n",
        "1.5\n",
        "e\n",
        "β\n",
        "i\n",
        "​\n",
        "\n",
        " =1.5: a 1-unit increase in\n",
        "𝑥\n",
        "𝑖\n",
        "x\n",
        "i\n",
        "​\n",
        "  multiplies the odds by 1.5.\n",
        "\n",
        "If\n",
        "𝑒\n",
        "𝛽\n",
        "𝑖\n",
        "=\n",
        "0.7\n",
        "e\n",
        "β\n",
        "i\n",
        "​\n",
        "\n",
        " =0.7: the odds decrease to 70% of what they were (30% lower odds).\n",
        "\n"
      ],
      "metadata": {
        "id": "DLd28EfhB_CM"
      }
    },
    {
      "cell_type": "markdown",
      "source": [
        "**Practical Questions -**"
      ],
      "metadata": {
        "id": "ZYGlEdeUCSsK"
      }
    },
    {
      "cell_type": "markdown",
      "source": [
        "***Q1 Write a Python program that loads a dataset, splits it into training and testing sets, applies Logistic Regression, and prints the model accuracy ***\n"
      ],
      "metadata": {
        "id": "m1fG5JXDCpJf"
      }
    },
    {
      "cell_type": "code",
      "source": [
        "from sklearn.datasets import load_iris\n",
        "from sklearn.model_selection import train_test_split\n",
        "from sklearn.linear_model import LogisticRegression\n",
        "from sklearn.metrics import accuracy_score\n",
        "\n",
        "# Step 1: Load the dataset\n",
        "iris = load_iris()\n",
        "X = iris.data\n",
        "y = iris.target\n",
        "\n",
        "# Step 2: Split the data (80% train, 20% test)\n",
        "X_train, X_test, y_train, y_test = train_test_split(X, y, test_size=0.2, random_state=42)\n",
        "\n",
        "# Step 3: Initialize and train Logistic Regression model\n",
        "model = LogisticRegression(max_iter=200, solver='lbfgs', multi_class='multinomial')\n",
        "model.fit(X_train, y_train)\n",
        "\n",
        "# Step 4: Make predictions and calculate accuracy\n",
        "y_pred = model.predict(X_test)\n",
        "accuracy = accuracy_score(y_test, y_pred)\n",
        "\n",
        "print(\"Logistic Regression Model Accuracy:\", round(accuracy * 100, 2), \"%\")\n"
      ],
      "metadata": {
        "colab": {
          "base_uri": "https://localhost:8080/"
        },
        "id": "JdHCSaZqCyIH",
        "outputId": "576a0b57-b2bb-46c9-b560-7c6ebd521702"
      },
      "execution_count": null,
      "outputs": [
        {
          "output_type": "stream",
          "name": "stdout",
          "text": [
            "Logistic Regression Model Accuracy: 100.0 %\n"
          ]
        },
        {
          "output_type": "stream",
          "name": "stderr",
          "text": [
            "/usr/local/lib/python3.11/dist-packages/sklearn/linear_model/_logistic.py:1247: FutureWarning: 'multi_class' was deprecated in version 1.5 and will be removed in 1.7. From then on, it will always use 'multinomial'. Leave it to its default value to avoid this warning.\n",
            "  warnings.warn(\n"
          ]
        }
      ]
    },
    {
      "cell_type": "markdown",
      "source": [
        "**Q2. Write a Python program to apply L1 regularization (Lasso) on a dataset using LogisticRegression(penalty='l1') and print the model accuracy?**\n"
      ],
      "metadata": {
        "id": "yA9jjGzhC-uq"
      }
    },
    {
      "cell_type": "code",
      "source": [
        "from sklearn.datasets import load_breast_cancer\n",
        "from sklearn.model_selection import train_test_split\n",
        "from sklearn.linear_model import LogisticRegression\n",
        "from sklearn.metrics import accuracy_score\n",
        "import warnings\n",
        "\n",
        "# Ignore convergence warnings\n",
        "warnings.filterwarnings(\"ignore\", category=UserWarning)\n",
        "\n",
        "# Step 1: Load the binary classification dataset\n",
        "data = load_breast_cancer()\n",
        "X = data.data\n",
        "y = data.target\n",
        "\n",
        "# Step 2: Split into training and testing sets\n",
        "X_train, X_test, y_train, y_test = train_test_split(X, y, test_size=0.2, random_state=42)\n",
        "\n",
        "# Step 3: Apply Logistic Regression with L1 penalty\n",
        "model = LogisticRegression(penalty='l1', solver='liblinear', max_iter=1000)\n",
        "model.fit(X_train, y_train)\n",
        "\n",
        "# Step 4: Predict and evaluate accuracy\n",
        "y_pred = model.predict(X_test)\n",
        "accuracy = accuracy_score(y_test, y_pred)\n",
        "\n",
        "print(\"Logistic Regression with L1 Regularization Accuracy:\", round(accuracy * 100, 2), \"%\")\n"
      ],
      "metadata": {
        "colab": {
          "base_uri": "https://localhost:8080/"
        },
        "id": "a8bRdVLGDLdD",
        "outputId": "32f4b814-48cd-4ce5-b18d-d6424c519e28"
      },
      "execution_count": null,
      "outputs": [
        {
          "output_type": "stream",
          "name": "stdout",
          "text": [
            "Logistic Regression with L1 Regularization Accuracy: 95.61 %\n"
          ]
        }
      ]
    },
    {
      "cell_type": "markdown",
      "source": [
        "**Q3.Write a Python program to train Logistic Regression with L2 regularization (Ridge) using LogisticRegression(penalty='l2'). Print model accuracy and coefficients**"
      ],
      "metadata": {
        "id": "xPJxsqpuDVBp"
      }
    },
    {
      "cell_type": "code",
      "source": [
        "from sklearn.datasets import load_breast_cancer\n",
        "from sklearn.model_selection import train_test_split\n",
        "from sklearn.linear_model import LogisticRegression\n",
        "from sklearn.metrics import accuracy_score\n",
        "import numpy as np\n",
        "\n",
        "# Step 1: Load dataset\n",
        "data = load_breast_cancer()\n",
        "X = data.data\n",
        "y = data.target\n",
        "\n",
        "# Step 2: Split data\n",
        "X_train, X_test, y_train, y_test = train_test_split(X, y, test_size=0.2, random_state=42)\n",
        "\n",
        "# Step 3: Train Logistic Regression with L2 penalty\n",
        "model = LogisticRegression(penalty='l2', solver='lbfgs', max_iter=1000)\n",
        "model.fit(X_train, y_train)\n",
        "\n",
        "# Step 4: Predict and evaluate accuracy\n",
        "y_pred = model.predict(X_test)\n",
        "accuracy = accuracy_score(y_test, y_pred)\n",
        "\n",
        "# Step 5: Print results\n",
        "print(f\"Logistic Regression with L2 Regularization Accuracy: {accuracy * 100:.2f}%\")\n",
        "print(\"\\nModel Coefficients:\")\n",
        "for feature, coef in zip(data.feature_names, model.coef_[0]):\n",
        "    print(f\"{feature}: {coef:.4f}\")\n"
      ],
      "metadata": {
        "colab": {
          "base_uri": "https://localhost:8080/"
        },
        "id": "ibtxbaZNDUtg",
        "outputId": "29fab292-b9a8-4dfd-88c4-2dbdd74f5081"
      },
      "execution_count": null,
      "outputs": [
        {
          "output_type": "stream",
          "name": "stdout",
          "text": [
            "Logistic Regression with L2 Regularization Accuracy: 95.61%\n",
            "\n",
            "Model Coefficients:\n",
            "mean radius: 2.0998\n",
            "mean texture: 0.1325\n",
            "mean perimeter: -0.1035\n",
            "mean area: -0.0026\n",
            "mean smoothness: -0.1702\n",
            "mean compactness: -0.3798\n",
            "mean concavity: -0.6912\n",
            "mean concave points: -0.4081\n",
            "mean symmetry: -0.2351\n",
            "mean fractal dimension: -0.0236\n",
            "radius error: -0.0854\n",
            "texture error: 1.1225\n",
            "perimeter error: -0.3258\n",
            "area error: -0.0652\n",
            "smoothness error: -0.0237\n",
            "compactness error: 0.0596\n",
            "concavity error: 0.0045\n",
            "concave points error: -0.0428\n",
            "symmetry error: -0.0415\n",
            "fractal dimension error: 0.0143\n",
            "worst radius: 0.9663\n",
            "worst texture: -0.3771\n",
            "worst perimeter: -0.0586\n",
            "worst area: -0.0240\n",
            "worst smoothness: -0.3177\n",
            "worst compactness: -1.0044\n",
            "worst concavity: -1.5713\n",
            "worst concave points: -0.6935\n",
            "worst symmetry: -0.8410\n",
            "worst fractal dimension: -0.0931\n"
          ]
        }
      ]
    },
    {
      "cell_type": "markdown",
      "source": [
        "**Q4.Write a Python program to train Logistic Regression with Elastic Net Regularization (penalty='elasticnet')**"
      ],
      "metadata": {
        "id": "lcnq7x9FDdyA"
      }
    },
    {
      "cell_type": "code",
      "source": [
        "from sklearn.datasets import load_breast_cancer\n",
        "from sklearn.model_selection import train_test_split\n",
        "from sklearn.linear_model import LogisticRegression\n",
        "from sklearn.metrics import accuracy_score\n",
        "import numpy as np\n",
        "\n",
        "# Step 1: Load the dataset\n",
        "data = load_breast_cancer()\n",
        "X = data.data\n",
        "y = data.target\n",
        "\n",
        "# Step 2: Split the dataset\n",
        "X_train, X_test, y_train, y_test = train_test_split(X, y, test_size=0.2, random_state=42)\n",
        "\n",
        "# Step 3: Train Logistic Regression with Elastic Net regularization\n",
        "model = LogisticRegression(\n",
        "    penalty='elasticnet',\n",
        "    solver='saga',\n",
        "    l1_ratio=0.5,    # Balance between L1 and L2 (0 = Ridge, 1 = Lasso)\n",
        "    max_iter=5000,\n",
        "    random_state=42\n",
        ")\n",
        "\n",
        "model.fit(X_train, y_train)\n",
        "\n",
        "# Step 4: Predict and evaluate accuracy\n",
        "y_pred = model.predict(X_test)\n",
        "accuracy = accuracy_score(y_test, y_pred)\n",
        "\n",
        "# Step 5: Print results\n",
        "print(f\"Logistic Regression with Elastic Net Accuracy: {accuracy * 100:.2f}%\")\n",
        "print(\"\\nModel Coefficients:\")\n",
        "for feature, coef in zip(data.feature_names, model.coef_[0]):\n",
        "    print(f\"{feature}: {coef:.4f}\")\n"
      ],
      "metadata": {
        "colab": {
          "base_uri": "https://localhost:8080/"
        },
        "id": "1soPadlZDhoU",
        "outputId": "03aef1e4-6ec8-4642-ff80-ac065d0aa9d5"
      },
      "execution_count": null,
      "outputs": [
        {
          "output_type": "stream",
          "name": "stdout",
          "text": [
            "Logistic Regression with Elastic Net Accuracy: 97.37%\n",
            "\n",
            "Model Coefficients:\n",
            "mean radius: 0.0155\n",
            "mean texture: -0.0011\n",
            "mean perimeter: 0.0770\n",
            "mean area: 0.0144\n",
            "mean smoothness: 0.0000\n",
            "mean compactness: -0.0003\n",
            "mean concavity: -0.0007\n",
            "mean concave points: -0.0002\n",
            "mean symmetry: 0.0000\n",
            "mean fractal dimension: 0.0000\n",
            "radius error: 0.0000\n",
            "texture error: 0.0004\n",
            "perimeter error: -0.0014\n",
            "area error: -0.0229\n",
            "smoothness error: 0.0000\n",
            "compactness error: 0.0000\n",
            "concavity error: -0.0000\n",
            "concave points error: 0.0000\n",
            "symmetry error: 0.0000\n",
            "fractal dimension error: 0.0000\n",
            "worst radius: 0.0161\n",
            "worst texture: -0.0094\n",
            "worst perimeter: 0.0632\n",
            "worst area: -0.0273\n",
            "worst smoothness: 0.0000\n",
            "worst compactness: -0.0016\n",
            "worst concavity: -0.0021\n",
            "worst concave points: -0.0004\n",
            "worst symmetry: -0.0001\n",
            "worst fractal dimension: 0.0000\n"
          ]
        }
      ]
    },
    {
      "cell_type": "markdown",
      "source": [
        "**Q5. Write a Python program to train a Logistic Regression model for multiclass classification using multi_class='ovr'.**"
      ],
      "metadata": {
        "id": "vYAxYSOyDmUh"
      }
    },
    {
      "cell_type": "code",
      "source": [
        "from sklearn.datasets import load_iris\n",
        "from sklearn.model_selection import train_test_split\n",
        "from sklearn.linear_model import LogisticRegression\n",
        "from sklearn.metrics import accuracy_score\n",
        "\n",
        "# Step 1: Load the Iris dataset\n",
        "iris = load_iris()\n",
        "X = iris.data\n",
        "y = iris.target\n",
        "\n",
        "# Step 2: Split into training and testing sets\n",
        "X_train, X_test, y_train, y_test = train_test_split(X, y, test_size=0.2, random_state=42)\n",
        "\n",
        "# Step 3: Initialize and train Logistic Regression with OvR strategy\n",
        "model = LogisticRegression(multi_class='ovr', solver='liblinear', max_iter=200)\n",
        "model.fit(X_train, y_train)\n",
        "\n",
        "# Step 4: Predict and evaluate accuracy\n",
        "y_pred = model.predict(X_test)\n",
        "accuracy = accuracy_score(y_test, y_pred)\n",
        "\n",
        "print(f\"Logistic Regression (OvR) Model Accuracy: {accuracy * 100:.2f}%\")\n"
      ],
      "metadata": {
        "colab": {
          "base_uri": "https://localhost:8080/"
        },
        "id": "vjXl7XBiDqVg",
        "outputId": "60bca71c-01fa-4ad3-8963-1e92696a8d91"
      },
      "execution_count": null,
      "outputs": [
        {
          "output_type": "stream",
          "name": "stdout",
          "text": [
            "Logistic Regression (OvR) Model Accuracy: 100.00%\n"
          ]
        },
        {
          "output_type": "stream",
          "name": "stderr",
          "text": [
            "/usr/local/lib/python3.11/dist-packages/sklearn/linear_model/_logistic.py:1256: FutureWarning: 'multi_class' was deprecated in version 1.5 and will be removed in 1.7. Use OneVsRestClassifier(LogisticRegression(..)) instead. Leave it to its default value to avoid this warning.\n",
            "  warnings.warn(\n"
          ]
        }
      ]
    },
    {
      "cell_type": "markdown",
      "source": [
        "**Q6. Write a Python program to apply GridSearchCV to tune the hyperparameters (C and penalty) of Logistic Regression. Print the best parameters and accuracy**"
      ],
      "metadata": {
        "id": "kghjZfI3DvtH"
      }
    },
    {
      "cell_type": "code",
      "source": [
        "from sklearn.datasets import load_breast_cancer\n",
        "from sklearn.model_selection import train_test_split, GridSearchCV\n",
        "from sklearn.linear_model import LogisticRegression\n",
        "from sklearn.metrics import accuracy_score\n",
        "\n",
        "# Load dataset\n",
        "data = load_breast_cancer()\n",
        "X = data.data\n",
        "y = data.target\n",
        "\n",
        "# Split dataset\n",
        "X_train, X_test, y_train, y_test = train_test_split(X, y, test_size=0.2, random_state=42)\n",
        "\n",
        "# Initialize Logistic Regression (use 'liblinear' solver to support both l1 and l2 penalties)\n",
        "logreg = LogisticRegression(solver='liblinear', max_iter=1000)\n",
        "\n",
        "# Define hyperparameter grid\n",
        "param_grid = {\n",
        "    'C': [0.01, 0.1, 1, 10, 100],       # Regularization strength\n",
        "    'penalty': ['l1', 'l2']             # Regularization type\n",
        "}\n",
        "\n",
        "# Initialize GridSearchCV\n",
        "grid_search = GridSearchCV(estimator=logreg, param_grid=param_grid, cv=5, scoring='accuracy', n_jobs=-1)\n",
        "\n",
        "# Fit GridSearchCV\n",
        "grid_search.fit(X_train, y_train)\n",
        "\n",
        "# Predict on test set using best estimator\n",
        "best_model = grid_search.best_estimator_\n",
        "y_pred = best_model.predict(X_test)\n",
        "accuracy = accuracy_score(y_test, y_pred)\n",
        "\n",
        "# Print best params and accuracy\n",
        "print(\"Best Hyperparameters:\", grid_search.best_params_)\n",
        "print(f\"Test Set Accuracy with Best Params: {accuracy * 100:.2f}%\")\n"
      ],
      "metadata": {
        "colab": {
          "base_uri": "https://localhost:8080/"
        },
        "id": "Kirp295XDvYZ",
        "outputId": "a662cfd1-3999-47ae-8365-f5deb8b73def"
      },
      "execution_count": null,
      "outputs": [
        {
          "output_type": "stream",
          "name": "stdout",
          "text": [
            "Best Hyperparameters: {'C': 100, 'penalty': 'l1'}\n",
            "Test Set Accuracy with Best Params: 98.25%\n"
          ]
        }
      ]
    },
    {
      "cell_type": "markdown",
      "source": [
        "**Q7. Write a Python program to evaluate Logistic Regression using Stratified K-Fold Cross-Validation. Print the average accuracy.**"
      ],
      "metadata": {
        "id": "PqFNgLeUD6dc"
      }
    },
    {
      "cell_type": "code",
      "source": [
        "from sklearn.datasets import load_breast_cancer\n",
        "from sklearn.linear_model import LogisticRegression\n",
        "from sklearn.model_selection import StratifiedKFold, cross_val_score\n",
        "import numpy as np\n",
        "\n",
        "# Load dataset\n",
        "data = load_breast_cancer()\n",
        "X = data.data\n",
        "y = data.target\n",
        "\n",
        "# Initialize Logistic Regression model\n",
        "model = LogisticRegression(solver='liblinear', max_iter=1000)\n",
        "\n",
        "# Initialize Stratified K-Fold\n",
        "skf = StratifiedKFold(n_splits=5, shuffle=True, random_state=42)\n",
        "\n",
        "# Perform cross-validation and get accuracy for each fold\n",
        "scores = cross_val_score(model, X, y, cv=skf, scoring='accuracy')\n",
        "\n",
        "# Print accuracy for each fold and average accuracy\n",
        "for i, score in enumerate(scores, 1):\n",
        "    print(f\"Fold {i} Accuracy: {score * 100:.2f}%\")\n",
        "\n",
        "print(f\"\\nAverage Accuracy: {np.mean(scores) * 100:.2f}%\")\n"
      ],
      "metadata": {
        "colab": {
          "base_uri": "https://localhost:8080/"
        },
        "id": "J8zQTCpoD9Ay",
        "outputId": "8afff6dd-265d-4b8e-9daa-59cb1168e12b"
      },
      "execution_count": null,
      "outputs": [
        {
          "output_type": "stream",
          "name": "stdout",
          "text": [
            "Fold 1 Accuracy: 94.74%\n",
            "Fold 2 Accuracy: 92.11%\n",
            "Fold 3 Accuracy: 95.61%\n",
            "Fold 4 Accuracy: 96.49%\n",
            "Fold 5 Accuracy: 96.46%\n",
            "\n",
            "Average Accuracy: 95.08%\n"
          ]
        }
      ]
    },
    {
      "cell_type": "markdown",
      "source": [
        "**Q9.Write a Python program to apply RandomizedSearchCV for tuning hyperparameters (C, penalty, solver) in\n",
        "Logistic Regression. Print the best parameters and accuracy**"
      ],
      "metadata": {
        "id": "FNrgRzH8EDi-"
      }
    },
    {
      "cell_type": "code",
      "source": [
        "from sklearn.datasets import load_breast_cancer\n",
        "from sklearn.model_selection import train_test_split, RandomizedSearchCV\n",
        "from sklearn.linear_model import LogisticRegression\n",
        "from sklearn.metrics import accuracy_score\n",
        "from scipy.stats import uniform\n",
        "import numpy as np\n",
        "\n",
        "# Load dataset\n",
        "data = load_breast_cancer()\n",
        "X = data.data\n",
        "y = data.target\n",
        "\n",
        "# Split dataset\n",
        "X_train, X_test, y_train, y_test = train_test_split(X, y, test_size=0.2, random_state=42)\n",
        "\n",
        "# Define the Logistic Regression model (no solver specified yet)\n",
        "logreg = LogisticRegression(max_iter=5000)\n",
        "\n",
        "# Define parameter distribution for RandomizedSearchCV\n",
        "param_dist = {\n",
        "    'C': uniform(0.01, 10),                 # Continuous uniform distribution between 0.01 and 10\n",
        "    'penalty': ['l1', 'l2', 'elasticnet'], # Regularization types\n",
        "    'solver': ['saga'],                     # 'saga' supports all penalties including elasticnet\n",
        "    'l1_ratio': [0, 0.5, 1]                 # Only used if penalty='elasticnet'; 0 = l2, 1 = l1\n",
        "}\n",
        "\n",
        "# Initialize RandomizedSearchCV\n",
        "random_search = RandomizedSearchCV(\n",
        "    estimator=logreg,\n",
        "    param_distributions=param_dist,\n",
        "    n_iter=20,            # Number of parameter settings sampled\n",
        "    scoring='accuracy',\n",
        "    cv=5,\n",
        "    random_state=42,\n",
        "    n_jobs=-1,\n",
        "    refit=True\n",
        ")\n",
        "\n",
        "# Fit RandomizedSearchCV\n",
        "random_search.fit(X_train, y_train)\n",
        "\n",
        "# Predict on test set using best estimator\n",
        "best_model = random_search.best_estimator_\n",
        "y_pred = best_model.predict(X_test)\n",
        "accuracy = accuracy_score(y_test, y_pred)\n",
        "\n",
        "# Print best params and accuracy\n",
        "print(\"Best Hyperparameters:\", random_search.best_params_)\n",
        "print(f\"Test Set Accuracy with Best Params: {accuracy * 100:.2f}%\")\n"
      ],
      "metadata": {
        "colab": {
          "base_uri": "https://localhost:8080/"
        },
        "id": "EsROmWZwEc3Q",
        "outputId": "8a6dc649-ee38-4385-ed87-cb862cff0fe7"
      },
      "execution_count": null,
      "outputs": [
        {
          "output_type": "stream",
          "name": "stdout",
          "text": [
            "Best Hyperparameters: {'C': np.float64(3.7554011884736247), 'l1_ratio': 0, 'penalty': 'elasticnet', 'solver': 'saga'}\n",
            "Test Set Accuracy with Best Params: 97.37%\n"
          ]
        }
      ]
    },
    {
      "cell_type": "markdown",
      "source": [
        "**Q10. Write a Python program to implement One-vs-One (OvO) Multiclass Logistic Regression and print accuracy**"
      ],
      "metadata": {
        "id": "cYiXb1N8FR3M"
      }
    },
    {
      "cell_type": "code",
      "source": [
        "from sklearn.datasets import load_iris\n",
        "from sklearn.model_selection import train_test_split\n",
        "from sklearn.linear_model import LogisticRegression\n",
        "from sklearn.multiclass import OneVsOneClassifier\n",
        "from sklearn.metrics import accuracy_score\n",
        "\n",
        "# Load Iris dataset\n",
        "iris = load_iris()\n",
        "X, y = iris.data, iris.target\n",
        "\n",
        "# Split into train/test sets\n",
        "X_train, X_test, y_train, y_test = train_test_split(X, y, test_size=0.2, random_state=42)\n",
        "\n",
        "# Create Logistic Regression model\n",
        "logreg = LogisticRegression(max_iter=1000, solver='lbfgs')\n",
        "\n",
        "# Wrap with One-vs-One classifier\n",
        "ovo_clf = OneVsOneClassifier(logreg)\n",
        "\n",
        "# Train model\n",
        "ovo_clf.fit(X_train, y_train)\n",
        "\n",
        "# Predict on test set\n",
        "y_pred = ovo_clf.predict(X_test)\n",
        "\n",
        "# Calculate accuracy\n",
        "accuracy = accuracy_score(y_test, y_pred)\n",
        "print(f\"One-vs-One Logistic Regression Accuracy: {accuracy * 100:.2f}%\")\n"
      ],
      "metadata": {
        "colab": {
          "base_uri": "https://localhost:8080/"
        },
        "id": "chC9yk3LFUcr",
        "outputId": "c273ee7b-83be-47f0-93a5-756858459f2d"
      },
      "execution_count": null,
      "outputs": [
        {
          "output_type": "stream",
          "name": "stdout",
          "text": [
            "One-vs-One Logistic Regression Accuracy: 100.00%\n"
          ]
        }
      ]
    },
    {
      "cell_type": "markdown",
      "source": [
        "***Q11.Write a Python program to train a Logistic Regression model and visualize the confusion matrix for binary classification ***"
      ],
      "metadata": {
        "id": "pZFpAgl-FYXC"
      }
    },
    {
      "cell_type": "code",
      "source": [
        "import matplotlib.pyplot as plt\n",
        "import seaborn as sns\n",
        "from sklearn.datasets import load_breast_cancer\n",
        "from sklearn.model_selection import train_test_split\n",
        "from sklearn.linear_model import LogisticRegression\n",
        "from sklearn.metrics import confusion_matrix, ConfusionMatrixDisplay\n",
        "\n",
        "# Load dataset\n",
        "data = load_breast_cancer()\n",
        "X, y = data.data, data.target\n",
        "\n",
        "# Split into train and test sets\n",
        "X_train, X_test, y_train, y_test = train_test_split(X, y, test_size=0.2, random_state=42)\n",
        "\n",
        "# Train Logistic Regression model\n",
        "model = LogisticRegression(max_iter=1000, solver='liblinear')\n",
        "model.fit(X_train, y_train)\n",
        "\n",
        "# Predict test labels\n",
        "y_pred = model.predict(X_test)\n",
        "\n",
        "# Compute confusion matrix\n",
        "cm = confusion_matrix(y_test, y_pred)\n",
        "\n",
        "# Plot confusion matrix using seaborn heatmap\n",
        "plt.figure(figsize=(6,5))\n",
        "sns.heatmap(cm, annot=True, fmt='d', cmap='Blues',\n",
        "            xticklabels=data.target_names,\n",
        "            yticklabels=data.target_names)\n",
        "plt.xlabel('Predicted')\n",
        "plt.ylabel('Actual')\n",
        "plt.title('Confusion Matrix - Logistic Regression')\n",
        "plt.show()\n"
      ],
      "metadata": {
        "colab": {
          "base_uri": "https://localhost:8080/",
          "height": 487
        },
        "id": "4Ss1yNiPFdiM",
        "outputId": "aecd8cb5-461a-4ba9-e3fb-4e684df44ce3"
      },
      "execution_count": null,
      "outputs": [
        {
          "output_type": "display_data",
          "data": {
            "text/plain": [
              "<Figure size 600x500 with 2 Axes>"
            ],
            "image/png": "[encoded data removed]"
          },
          "metadata": {}
        }
      ]
    },
    {
      "cell_type": "markdown",
      "source": [
        "Q12.Write a Python program to train a Logistic Regression model and evaluate its performance using Precision, Recall, and F1-Score"
      ],
      "metadata": {
        "id": "ebu2AL0lFkfy"
      }
    },
    {
      "cell_type": "code",
      "source": [
        "from sklearn.datasets import load_breast_cancer\n",
        "from sklearn.model_selection import train_test_split\n",
        "from sklearn.linear_model import LogisticRegression\n",
        "from sklearn.metrics import precision_score, recall_score, f1_score\n",
        "\n",
        "# Load dataset\n",
        "data = load_breast_cancer()\n",
        "X, y = data.data, data.target\n",
        "\n",
        "# Split data\n",
        "X_train, X_test, y_train, y_test = train_test_split(X, y, test_size=0.2, random_state=42)\n",
        "\n",
        "# Train Logistic Regression model\n",
        "model = LogisticRegression(max_iter=1000, solver='liblinear')\n",
        "model.fit(X_train, y_train)\n",
        "\n",
        "# Predict test data\n",
        "y_pred = model.predict(X_test)\n",
        "\n",
        "# Calculate precision, recall, and f1-score\n",
        "precision = precision_score(y_test, y_pred)\n",
        "recall = recall_score(y_test, y_pred)\n",
        "f1 = f1_score(y_test, y_pred)\n",
        "\n",
        "# Print metrics\n",
        "print(f\"Precision: {precision:.4f}\")\n",
        "print(f\"Recall:    {recall:.4f}\")\n",
        "print(f\"F1-Score:  {f1:.4f}\")\n"
      ],
      "metadata": {
        "colab": {
          "base_uri": "https://localhost:8080/"
        },
        "id": "m7IST8kvFnQA",
        "outputId": "27955a63-4c7b-423d-906d-dbf4d27f5d88"
      },
      "execution_count": null,
      "outputs": [
        {
          "output_type": "stream",
          "name": "stdout",
          "text": [
            "Precision: 0.9459\n",
            "Recall:    0.9859\n",
            "F1-Score:  0.9655\n"
          ]
        }
      ]
    },
    {
      "cell_type": "markdown",
      "source": [
        "**Q13.Write a Python program to train a Logistic Regression model on imbalanced data and apply class weights to improve model performance**"
      ],
      "metadata": {
        "id": "0qZ4xifMF3MR"
      }
    },
    {
      "cell_type": "code",
      "source": [
        "from sklearn.datasets import make_classification\n",
        "from sklearn.model_selection import train_test_split\n",
        "from sklearn.linear_model import LogisticRegression\n",
        "from sklearn.metrics import classification_report, accuracy_score\n",
        "\n",
        "# Create an imbalanced binary classification dataset\n",
        "X, y = make_classification(\n",
        "    n_samples=1000,\n",
        "    n_features=20,\n",
        "    n_informative=2,\n",
        "    n_redundant=10,\n",
        "    n_clusters_per_class=1,\n",
        "    weights=[0.9, 0.1],  # 90% of class 0, 10% of class 1\n",
        "    flip_y=0,\n",
        "    random_state=42\n",
        ")\n",
        "\n",
        "# Split into training and testing sets\n",
        "X_train, X_test, y_train, y_test = train_test_split(\n",
        "    X, y, test_size=0.2, random_state=42, stratify=y\n",
        ")\n",
        "\n",
        "# Train Logistic Regression WITHOUT class weights\n",
        "model_no_weights = LogisticRegression(max_iter=1000, solver='liblinear')\n",
        "model_no_weights.fit(X_train, y_train)\n",
        "y_pred_no_weights = model_no_weights.predict(X_test)\n",
        "\n",
        "# Train Logistic Regression WITH class weights (balanced)\n",
        "model_weights = LogisticRegression(max_iter=1000, solver='liblinear', class_weight='balanced')\n",
        "model_weights.fit(X_train, y_train)\n",
        "y_pred_weights = model_weights.predict(X_test)\n",
        "\n",
        "# Print evaluation for model without class weights\n",
        "print(\"Without class weights:\")\n",
        "print(f\"Accuracy: {accuracy_score(y_test, y_pred_no_weights):.4f}\")\n",
        "print(classification_report(y_test, y_pred_no_weights))\n",
        "\n",
        "# Print evaluation for model with class weights\n",
        "print(\"With class weights:\")\n",
        "print(f\"Accuracy: {accuracy_score(y_test, y_pred_weights):.4f}\")\n",
        "print(classification_report(y_test, y_pred_weights))\n"
      ],
      "metadata": {
        "colab": {
          "base_uri": "https://localhost:8080/"
        },
        "id": "M8XqvQD9F6ME",
        "outputId": "34b72f46-e6ba-4be7-c4ad-0905eade0f52"
      },
      "execution_count": null,
      "outputs": [
        {
          "output_type": "stream",
          "name": "stdout",
          "text": [
            "Without class weights:\n",
            "Accuracy: 0.9800\n",
            "              precision    recall  f1-score   support\n",
            "\n",
            "           0       0.98      0.99      0.99       180\n",
            "           1       0.94      0.85      0.89        20\n",
            "\n",
            "    accuracy                           0.98       200\n",
            "   macro avg       0.96      0.92      0.94       200\n",
            "weighted avg       0.98      0.98      0.98       200\n",
            "\n",
            "With class weights:\n",
            "Accuracy: 0.9250\n",
            "              precision    recall  f1-score   support\n",
            "\n",
            "           0       0.99      0.93      0.96       180\n",
            "           1       0.58      0.90      0.71        20\n",
            "\n",
            "    accuracy                           0.93       200\n",
            "   macro avg       0.78      0.91      0.83       200\n",
            "weighted avg       0.95      0.93      0.93       200\n",
            "\n"
          ]
        }
      ]
    },
    {
      "cell_type": "markdown",
      "source": [
        "**Q15. Write a Python program to apply feature scaling (Standardization) before training a Logistic Regression model. Evaluate its accuracy and compare results with and without scaling**"
      ],
      "metadata": {
        "id": "7e8RbmKNF_np"
      }
    },
    {
      "cell_type": "code",
      "source": [
        "from sklearn.datasets import load_breast_cancer\n",
        "from sklearn.model_selection import train_test_split\n",
        "from sklearn.linear_model import LogisticRegression\n",
        "from sklearn.preprocessing import StandardScaler\n",
        "from sklearn.pipeline import Pipeline\n",
        "from sklearn.metrics import accuracy_score\n",
        "\n",
        "# Load dataset\n",
        "data = load_breast_cancer()\n",
        "X, y = data.data, data.target\n",
        "\n",
        "# Split dataset into train and test sets\n",
        "X_train, X_test, y_train, y_test = train_test_split(X, y, test_size=0.2, random_state=42)\n",
        "\n",
        "# 1. Logistic Regression WITHOUT feature scaling\n",
        "model_no_scaling = LogisticRegression(max_iter=1000, solver='liblinear')\n",
        "model_no_scaling.fit(X_train, y_train)\n",
        "y_pred_no_scaling = model_no_scaling.predict(X_test)\n",
        "accuracy_no_scaling = accuracy_score(y_test, y_pred_no_scaling)\n",
        "\n",
        "# 2. Logistic Regression WITH feature scaling (Standardization)\n",
        "pipeline = Pipeline([\n",
        "    ('scaler', StandardScaler()),\n",
        "    ('logreg', LogisticRegression(max_iter=1000, solver='liblinear'))\n",
        "])\n",
        "pipeline.fit(X_train, y_train)\n",
        "y_pred_scaled = pipeline.predict(X_test)\n",
        "accuracy_scaled = accuracy_score(y_test, y_pred_scaled)\n",
        "\n",
        "# Print and compare accuracies\n",
        "print(f\"Accuracy WITHOUT scaling: {accuracy_no_scaling * 100:.2f}%\")\n",
        "print(f\"Accuracy WITH scaling:    {accuracy_scaled * 100:.2f}%\")\n"
      ],
      "metadata": {
        "colab": {
          "base_uri": "https://localhost:8080/"
        },
        "id": "UH4dKGCHGVEj",
        "outputId": "6fed1bba-2d95-40e1-aa9f-628a7ac4872c"
      },
      "execution_count": null,
      "outputs": [
        {
          "output_type": "stream",
          "name": "stdout",
          "text": [
            "Accuracy WITHOUT scaling: 95.61%\n",
            "Accuracy WITH scaling:    97.37%\n"
          ]
        }
      ]
    },
    {
      "cell_type": "markdown",
      "source": [
        "**Q16.Write a Python program to train Logistic Regression and evaluate its performance using ROC-AUC score**"
      ],
      "metadata": {
        "id": "91o2JMf6GZ0P"
      }
    },
    {
      "cell_type": "code",
      "source": [
        "from sklearn.datasets import load_breast_cancer\n",
        "from sklearn.model_selection import train_test_split\n",
        "from sklearn.linear_model import LogisticRegression\n",
        "from sklearn.metrics import roc_auc_score\n",
        "\n",
        "# Load dataset\n",
        "data = load_breast_cancer()\n",
        "X, y = data.data, data.target\n",
        "\n",
        "# Split data into train and test sets\n",
        "X_train, X_test, y_train, y_test = train_test_split(X, y, test_size=0.2, random_state=42)\n",
        "\n",
        "# Train Logistic Regression\n",
        "model = LogisticRegression(max_iter=1000, solver='liblinear')\n",
        "model.fit(X_train, y_train)\n",
        "\n",
        "# Predict probabilities for the positive class\n",
        "y_prob = model.predict_proba(X_test)[:, 1]\n",
        "\n",
        "# Calculate ROC-AUC score\n",
        "roc_auc = roc_auc_score(y_test, y_prob)\n",
        "print(f\"ROC-AUC Score: {roc_auc:.4f}\")\n"
      ],
      "metadata": {
        "colab": {
          "base_uri": "https://localhost:8080/"
        },
        "id": "Z38-ydyvGcxi",
        "outputId": "aa695acc-1685-4bc6-c602-62db1dac07f4"
      },
      "execution_count": null,
      "outputs": [
        {
          "output_type": "stream",
          "name": "stdout",
          "text": [
            "ROC-AUC Score: 0.9977\n"
          ]
        }
      ]
    },
    {
      "cell_type": "markdown",
      "source": [
        "**Q17.Write a Python program to train Logistic Regression using a custom learning rate (C=0.5) and evaluate accuracy**"
      ],
      "metadata": {
        "id": "jadAxBq1Gh8z"
      }
    },
    {
      "cell_type": "code",
      "source": [
        "from sklearn.datasets import load_breast_cancer\n",
        "from sklearn.model_selection import train_test_split\n",
        "from sklearn.linear_model import LogisticRegression\n",
        "from sklearn.metrics import accuracy_score\n",
        "\n",
        "# Load dataset\n",
        "data = load_breast_cancer()\n",
        "X, y = data.data, data.target\n",
        "\n",
        "# Split dataset into train and test sets\n",
        "X_train, X_test, y_train, y_test = train_test_split(X, y, test_size=0.2, random_state=42)\n",
        "\n",
        "# Train Logistic Regression with custom C (inverse regularization strength)\n",
        "model = LogisticRegression(C=0.5, max_iter=1000, solver='liblinear')\n",
        "model.fit(X_train, y_train)\n",
        "\n",
        "# Predict on test set\n",
        "y_pred = model.predict(X_test)\n",
        "\n",
        "# Calculate accuracy\n",
        "accuracy = accuracy_score(y_test, y_pred)\n",
        "print(f\"Accuracy with C=0.5: {accuracy * 100:.2f}%\")\n"
      ],
      "metadata": {
        "colab": {
          "base_uri": "https://localhost:8080/"
        },
        "id": "wTLViPqoGkfh",
        "outputId": "7e48b655-dfb8-4cf5-e612-b2d91295257f"
      },
      "execution_count": null,
      "outputs": [
        {
          "output_type": "stream",
          "name": "stdout",
          "text": [
            "Accuracy with C=0.5: 95.61%\n"
          ]
        }
      ]
    },
    {
      "cell_type": "markdown",
      "source": [
        "**Q18. Write a Python program to train Logistic Regression and identify important features based on model coefficients**"
      ],
      "metadata": {
        "id": "5tGLx3c0GqIn"
      }
    },
    {
      "cell_type": "code",
      "source": [
        "import numpy as np\n",
        "import pandas as pd\n",
        "from sklearn.datasets import load_breast_cancer\n",
        "from sklearn.linear_model import LogisticRegression\n",
        "from sklearn.model_selection import train_test_split\n",
        "\n",
        "# Load dataset\n",
        "data = load_breast_cancer()\n",
        "X = data.data\n",
        "y = data.target\n",
        "feature_names = data.feature_names\n",
        "\n",
        "# Split data\n",
        "X_train, X_test, y_train, y_test = train_test_split(X, y, test_size=0.2, random_state=42)\n",
        "\n",
        "# Train Logistic Regression\n",
        "model = LogisticRegression(max_iter=1000, solver='liblinear')\n",
        "model.fit(X_train, y_train)\n",
        "\n",
        "# Get coefficients\n",
        "coefficients = model.coef_[0]  # For binary classification, shape = (1, n_features)\n",
        "\n",
        "# Create a DataFrame of features and their coefficients\n",
        "feature_importance = pd.DataFrame({\n",
        "    'Feature': feature_names,\n",
        "    'Coefficient': coefficients,\n",
        "    'Absolute Coefficient': np.abs(coefficients)\n",
        "})\n",
        "\n",
        "# Sort features by absolute coefficient descending (importance)\n",
        "feature_importance = feature_importance.sort_values(by='Absolute Coefficient', ascending=False)\n",
        "\n",
        "print(\"Features ranked by importance:\")\n",
        "print(feature_importance[['Feature', 'Coefficient']])\n"
      ],
      "metadata": {
        "colab": {
          "base_uri": "https://localhost:8080/"
        },
        "id": "0Lra7OJlGv89",
        "outputId": "c7dc4719-5507-4173-aa41-3967e5aeb2cd"
      },
      "execution_count": null,
      "outputs": [
        {
          "output_type": "stream",
          "name": "stdout",
          "text": [
            "Features ranked by importance:\n",
            "                    Feature  Coefficient\n",
            "0               mean radius     2.132484\n",
            "26          worst concavity    -1.617969\n",
            "11            texture error     1.442984\n",
            "20             worst radius     1.232150\n",
            "25        worst compactness    -1.208985\n",
            "28           worst symmetry    -0.742764\n",
            "6            mean concavity    -0.651940\n",
            "27     worst concave points    -0.615251\n",
            "5          mean compactness    -0.415569\n",
            "21            worst texture    -0.404581\n",
            "7       mean concave points    -0.344456\n",
            "12          perimeter error    -0.303857\n",
            "24         worst smoothness    -0.262631\n",
            "8             mean symmetry    -0.207613\n",
            "1              mean texture     0.152772\n",
            "2            mean perimeter    -0.145091\n",
            "4           mean smoothness    -0.142636\n",
            "29  worst fractal dimension    -0.116960\n",
            "13               area error    -0.072569\n",
            "10             radius error    -0.050034\n",
            "16          concavity error    -0.044886\n",
            "18           symmetry error    -0.041752\n",
            "17     concave points error    -0.037719\n",
            "22          worst perimeter    -0.036209\n",
            "9    mean fractal dimension    -0.029774\n",
            "23               worst area    -0.027087\n",
            "14         smoothness error    -0.016159\n",
            "19  fractal dimension error     0.005613\n",
            "15        compactness error    -0.001907\n",
            "3                 mean area    -0.000829\n"
          ]
        }
      ]
    },
    {
      "cell_type": "markdown",
      "source": [
        "**Q19. Write a Python program to train Logistic Regression and evaluate its performance using Cohen’s Kappa Score **"
      ],
      "metadata": {
        "id": "2V8YoWzUGzrw"
      }
    },
    {
      "cell_type": "code",
      "source": [
        "from sklearn.datasets import load_breast_cancer\n",
        "from sklearn.model_selection import train_test_split\n",
        "from sklearn.linear_model import LogisticRegression\n",
        "from sklearn.metrics import cohen_kappa_score\n",
        "\n",
        "# Load dataset\n",
        "data = load_breast_cancer()\n",
        "X, y = data.data, data.target\n",
        "\n",
        "# Split data into training and testing sets\n",
        "X_train, X_test, y_train, y_test = train_test_split(X, y, test_size=0.2, random_state=42)\n",
        "\n",
        "# Train Logistic Regression model\n",
        "model = LogisticRegression(max_iter=1000, solver='liblinear')\n",
        "model.fit(X_train, y_train)\n",
        "\n",
        "# Predict on test set\n",
        "y_pred = model.predict(X_test)\n",
        "\n",
        "# Calculate Cohen's Kappa Score\n",
        "kappa_score = cohen_kappa_score(y_test, y_pred)\n",
        "print(f\"Cohen's Kappa Score: {kappa_score:.4f}\")\n"
      ],
      "metadata": {
        "colab": {
          "base_uri": "https://localhost:8080/"
        },
        "id": "2ADzYDLSG4zp",
        "outputId": "d63f5b2c-2fd5-4ef4-acfd-cee241d13966"
      },
      "execution_count": null,
      "outputs": [
        {
          "output_type": "stream",
          "name": "stdout",
          "text": [
            "Cohen's Kappa Score: 0.9053\n"
          ]
        }
      ]
    },
    {
      "cell_type": "markdown",
      "source": [
        "**Q20.Write a Python program to train Logistic Regression and visualize the Precision-Recall Curve for binary classification**"
      ],
      "metadata": {
        "id": "Um4voHanHAjj"
      }
    },
    {
      "cell_type": "code",
      "source": [
        "import matplotlib.pyplot as plt\n",
        "from sklearn.datasets import load_breast_cancer\n",
        "from sklearn.model_selection import train_test_split\n",
        "from sklearn.linear_model import LogisticRegression\n",
        "from sklearn.metrics import precision_recall_curve, average_precision_score\n",
        "\n",
        "# Load dataset\n",
        "data = load_breast_cancer()\n",
        "X, y = data.data, data.target\n",
        "\n",
        "# Split dataset into train and test sets\n",
        "X_train, X_test, y_train, y_test = train_test_split(X, y, test_size=0.2, random_state=42)\n",
        "\n",
        "# Train Logistic Regression model\n",
        "model = LogisticRegression(max_iter=1000, solver='liblinear')\n",
        "model.fit(X_train, y_train)\n",
        "\n",
        "# Predict probabilities for positive class\n",
        "y_scores = model.predict_proba(X_test)[:, 1]\n",
        "\n",
        "# Compute precision-recall curve\n",
        "precision, recall, thresholds = precision_recall_curve(y_test, y_scores)\n",
        "\n",
        "# Compute average precision score\n",
        "avg_precision = average_precision_score(y_test, y_scores)\n",
        "\n",
        "# Plot Precision-Recall curve\n",
        "plt.figure(figsize=(8,6))\n",
        "plt.plot(recall, precision, color='b', label=f'Average Precision = {avg_precision:.2f}')\n",
        "plt.xlabel('Recall')\n",
        "plt.ylabel('Precision')\n",
        "plt.title('Precision-Recall Curve - Logistic Regression')\n",
        "plt.legend()\n",
        "plt.grid(True)\n",
        "plt.show()\n"
      ],
      "metadata": {
        "colab": {
          "base_uri": "https://localhost:8080/",
          "height": 564
        },
        "id": "9pUpByKIHDTW",
        "outputId": "ffb9549d-efb7-4c20-a360-b4f6f8bc31d8"
      },
      "execution_count": null,
      "outputs": [
        {
          "output_type": "display_data",
          "data": {
            "text/plain": [
              "<Figure size 800x600 with 1 Axes>"
            ],
            "image/png": "[encoded data removed]"
          },
          "metadata": {}
        }
      ]
    },
    {
      "cell_type": "markdown",
      "source": [
        "**Q21.Write a Python program to train Logistic Regression with different solvers (liblinear, saga, lbfgs) and compare their accuracy**"
      ],
      "metadata": {
        "id": "bIZ3Q04MHNjT"
      }
    },
    {
      "cell_type": "code",
      "source": [
        "from sklearn.datasets import load_breast_cancer\n",
        "from sklearn.model_selection import train_test_split\n",
        "from sklearn.linear_model import LogisticRegression\n",
        "from sklearn.metrics import accuracy_score\n",
        "\n",
        "# Load dataset\n",
        "data = load_breast_cancer()\n",
        "X, y = data.data, data.target\n",
        "\n",
        "# Split data\n",
        "X_train, X_test, y_train, y_test = train_test_split(X, y, test_size=0.2, random_state=42)\n",
        "\n",
        "# List of solvers to compare\n",
        "solvers = ['liblinear', 'saga', 'lbfgs']\n",
        "\n",
        "# Dictionary to store accuracies\n",
        "accuracies = {}\n",
        "\n",
        "for solver in solvers:\n",
        "    # saga requires 'l2' or 'elasticnet' penalty, we'll use 'l2' for all for consistency\n",
        "    model = LogisticRegression(max_iter=1000, solver=solver, penalty='l2')\n",
        "    model.fit(X_train, y_train)\n",
        "    y_pred = model.predict(X_test)\n",
        "    acc = accuracy_score(y_test, y_pred)\n",
        "    accuracies[solver] = acc\n",
        "\n",
        "# Print accuracies\n",
        "for solver, acc in accuracies.items():\n",
        "    print(f\"Accuracy with solver '{solver}': {acc * 100:.2f}%\")\n"
      ],
      "metadata": {
        "colab": {
          "base_uri": "https://localhost:8080/"
        },
        "id": "PzZCMqxUHRAh",
        "outputId": "98b7c49e-aa2e-492e-852d-fe82f1018bcd"
      },
      "execution_count": null,
      "outputs": [
        {
          "output_type": "stream",
          "name": "stdout",
          "text": [
            "Accuracy with solver 'liblinear': 95.61%\n",
            "Accuracy with solver 'saga': 96.49%\n",
            "Accuracy with solver 'lbfgs': 95.61%\n"
          ]
        }
      ]
    },
    {
      "cell_type": "markdown",
      "source": [
        "**Q22.Write a Python program to train Logistic Regression and evaluate its performance using Matthews Correlation Coefficient (MCC)**"
      ],
      "metadata": {
        "id": "dIxhYbhKHWUp"
      }
    },
    {
      "cell_type": "code",
      "source": [
        "from sklearn.datasets import load_breast_cancer\n",
        "from sklearn.model_selection import train_test_split\n",
        "from sklearn.linear_model import LogisticRegression\n",
        "from sklearn.metrics import matthews_corrcoef\n",
        "\n",
        "# Load dataset\n",
        "data = load_breast_cancer()\n",
        "X, y = data.data, data.target\n",
        "\n",
        "# Split dataset into training and testing sets\n",
        "X_train, X_test, y_train, y_test = train_test_split(X, y, test_size=0.2, random_state=42)\n",
        "\n",
        "# Train Logistic Regression model\n",
        "model = LogisticRegression(max_iter=1000, solver='liblinear')\n",
        "model.fit(X_train, y_train)\n",
        "\n",
        "# Predict on test set\n",
        "y_pred = model.predict(X_test)\n",
        "\n",
        "# Calculate Matthews Correlation Coefficient\n",
        "mcc = matthews_corrcoef(y_test, y_pred)\n",
        "print(f\"Matthews Correlation Coefficient (MCC): {mcc:.4f}\")\n"
      ],
      "metadata": {
        "colab": {
          "base_uri": "https://localhost:8080/"
        },
        "id": "xwojse0RHYJM",
        "outputId": "1f53210a-6554-41fe-fa13-4a4d1a6d3b5d"
      },
      "execution_count": null,
      "outputs": [
        {
          "output_type": "stream",
          "name": "stdout",
          "text": [
            "Matthews Correlation Coefficient (MCC): 0.9068\n"
          ]
        }
      ]
    },
    {
      "cell_type": "markdown",
      "source": [
        "**Q23. Write a Python program to train Logistic Regression on both raw and standardized data. Compare their accuracy to see the impact of feature scalin**"
      ],
      "metadata": {
        "id": "s1sp7GtWHdFb"
      }
    },
    {
      "cell_type": "code",
      "source": [
        "from sklearn.datasets import load_breast_cancer\n",
        "from sklearn.model_selection import train_test_split\n",
        "from sklearn.linear_model import LogisticRegression\n",
        "from sklearn.preprocessing import StandardScaler\n",
        "from sklearn.metrics import accuracy_score\n",
        "\n",
        "# Load dataset\n",
        "data = load_breast_cancer()\n",
        "X, y = data.data, data.target\n",
        "\n",
        "# Split dataset into train and test sets\n",
        "X_train, X_test, y_train, y_test = train_test_split(X, y, test_size=0.2, random_state=42)\n",
        "\n",
        "# 1. Logistic Regression WITHOUT feature scaling\n",
        "model_raw = LogisticRegression(max_iter=1000, solver='liblinear')\n",
        "model_raw.fit(X_train, y_train)\n",
        "y_pred_raw = model_raw.predict(X_test)\n",
        "accuracy_raw = accuracy_score(y_test, y_pred_raw)\n",
        "\n",
        "# 2. Logistic Regression WITH feature scaling (StandardScaler)\n",
        "scaler = StandardScaler()\n",
        "X_train_scaled = scaler.fit_transform(X_train)\n",
        "X_test_scaled = scaler.transform(X_test)\n",
        "\n",
        "model_scaled = LogisticRegression(max_iter=1000, solver='liblinear')\n",
        "model_scaled.fit(X_train_scaled, y_train)\n",
        "y_pred_scaled = model_scaled.predict(X_test_scaled)\n",
        "accuracy_scaled = accuracy_score(y_test, y_pred_scaled)\n",
        "\n",
        "# Print comparison of accuracies\n",
        "print(f\"Accuracy WITHOUT feature scaling: {accuracy_raw * 100:.2f}%\")\n",
        "print(f\"Accuracy WITH feature scaling:    {accuracy_scaled * 100:.2f}%\")\n"
      ],
      "metadata": {
        "colab": {
          "base_uri": "https://localhost:8080/"
        },
        "id": "r-kW4gupHgs5",
        "outputId": "a08298bd-ea6f-4f3c-d6dd-3ddedaeab527"
      },
      "execution_count": null,
      "outputs": [
        {
          "output_type": "stream",
          "name": "stdout",
          "text": [
            "Accuracy WITHOUT feature scaling: 95.61%\n",
            "Accuracy WITH feature scaling:    97.37%\n"
          ]
        }
      ]
    },
    {
      "cell_type": "markdown",
      "source": [
        "**Q24. Write a Python program to train Logistic Regression and find the optimal C (regularization strength) using cross-validation**"
      ],
      "metadata": {
        "id": "yqKXO0TIHn3o"
      }
    },
    {
      "cell_type": "code",
      "source": [
        "from sklearn.datasets import load_breast_cancer\n",
        "from sklearn.model_selection import train_test_split, GridSearchCV\n",
        "from sklearn.linear_model import LogisticRegression\n",
        "from sklearn.metrics import accuracy_score\n",
        "\n",
        "# Load dataset\n",
        "data = load_breast_cancer()\n",
        "X, y = data.data, data.target\n",
        "\n",
        "# Split data into train and test sets\n",
        "X_train, X_test, y_train, y_test = train_test_split(X, y, test_size=0.2, random_state=42)\n",
        "\n",
        "# Define Logistic Regression model\n",
        "logreg = LogisticRegression(max_iter=1000, solver='liblinear')\n",
        "\n",
        "# Define parameter grid for C (regularization strength)\n",
        "param_grid = {'C': [0.01, 0.1, 0.5, 1, 5, 10, 50, 100]}\n",
        "\n",
        "# Set up GridSearchCV with 5-fold cross-validation\n",
        "grid_search = GridSearchCV(logreg, param_grid, cv=5, scoring='accuracy')\n",
        "\n",
        "# Fit GridSearchCV\n",
        "grid_search.fit(X_train, y_train)\n",
        "\n",
        "# Best hyperparameter\n",
        "best_C = grid_search.best_params_['C']\n",
        "print(f\"Best C value found: {best_C}\")\n",
        "\n",
        "# Evaluate best model on test set\n",
        "best_model = grid_search.best_estimator_\n",
        "y_pred = best_model.predict(X_test)\n",
        "accuracy = accuracy_score(y_test, y_pred)\n",
        "print(f\"Test accuracy with best C: {accuracy * 100:.2f}%\")\n"
      ],
      "metadata": {
        "colab": {
          "base_uri": "https://localhost:8080/"
        },
        "id": "iqKwOXzSHt5Z",
        "outputId": "5763579f-34f2-49c6-bafe-79a546b9c309"
      },
      "execution_count": null,
      "outputs": [
        {
          "output_type": "stream",
          "name": "stdout",
          "text": [
            "Best C value found: 10\n",
            "Test accuracy with best C: 95.61%\n"
          ]
        }
      ]
    },
    {
      "cell_type": "markdown",
      "source": [
        "Q25.Write a Python program to train Logistic Regression, save the trained model using joblib, and load it again to make prediction\n",
        "**bold text**"
      ],
      "metadata": {
        "id": "i4AUCtYxH3py"
      }
    },
    {
      "cell_type": "code",
      "source": [
        "import joblib\n",
        "from sklearn.datasets import load_breast_cancer\n",
        "from sklearn.model_selection import train_test_split\n",
        "from sklearn.linear_model import LogisticRegression\n",
        "from sklearn.metrics import accuracy_score\n",
        "\n",
        "# Load dataset\n",
        "data = load_breast_cancer()\n",
        "X, y = data.data, data.target\n",
        "\n",
        "# Split data\n",
        "X_train, X_test, y_train, y_test = train_test_split(X, y, test_size=0.2, random_state=42)\n",
        "\n",
        "# Train Logistic Regression model\n",
        "model = LogisticRegression(max_iter=1000, solver='liblinear')\n",
        "model.fit(X_train, y_train)\n",
        "\n",
        "# Save the model to a file\n",
        "joblib.dump(model, 'logistic_model.joblib')\n",
        "print(\"Model saved to 'logistic_model.joblib'\")\n",
        "\n",
        "# Load the model from the file\n",
        "loaded_model = joblib.load('logistic_model.joblib')\n",
        "print(\"Model loaded from 'logistic_model.joblib'\")\n",
        "\n",
        "# Make predictions with the loaded model\n",
        "y_pred = loaded_model.predict(X_test)\n",
        "\n",
        "# Evaluate accuracy\n",
        "accuracy = accuracy_score(y_test, y_pred)\n",
        "print(f\"Accuracy of loaded model: {accuracy * 100:.2f}%\")\n"
      ],
      "metadata": {
        "colab": {
          "base_uri": "https://localhost:8080/"
        },
        "id": "KBq4RMudH66L",
        "outputId": "4b5e6eb8-e6ae-4196-f160-3a5b758c24df"
      },
      "execution_count": null,
      "outputs": [
        {
          "output_type": "stream",
          "name": "stdout",
          "text": [
            "Model saved to 'logistic_model.joblib'\n",
            "Model loaded from 'logistic_model.joblib'\n",
            "Accuracy of loaded model: 95.61%\n"
          ]
        }
      ]
    }
  ]
}